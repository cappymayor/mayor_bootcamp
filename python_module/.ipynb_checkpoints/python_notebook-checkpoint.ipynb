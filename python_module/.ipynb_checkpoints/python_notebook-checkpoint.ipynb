{
 "cells": [
  {
   "cell_type": "code",
   "execution_count": 6,
   "id": "3ffc411c",
   "metadata": {},
   "outputs": [
    {
     "name": "stdout",
     "output_type": "stream",
     "text": [
      "dgghgcv\n"
     ]
    }
   ],
   "source": [
    "print(\"dgghgcv\")"
   ]
  },
  {
   "cell_type": "code",
   "execution_count": 10,
   "id": "4373e6fe",
   "metadata": {},
   "outputs": [],
   "source": [
    "age = 12\n",
    "height = 7.5\n",
    "is_married = True\n",
    "name = \"evans\""
   ]
  },
  {
   "cell_type": "code",
   "execution_count": 17,
   "id": "9340d542",
   "metadata": {},
   "outputs": [
    {
     "name": "stdout",
     "output_type": "stream",
     "text": [
      "<class 'int'>\n"
     ]
    }
   ],
   "source": [
    "print(type(age))"
   ]
  },
  {
   "cell_type": "code",
   "execution_count": 18,
   "id": "4c8d02ca",
   "metadata": {},
   "outputs": [
    {
     "data": {
      "text/plain": [
       "float"
      ]
     },
     "execution_count": 18,
     "metadata": {},
     "output_type": "execute_result"
    }
   ],
   "source": [
    "type(height)"
   ]
  },
  {
   "cell_type": "code",
   "execution_count": 19,
   "id": "c6909a14",
   "metadata": {},
   "outputs": [
    {
     "name": "stdout",
     "output_type": "stream",
     "text": [
      "<class 'float'>\n"
     ]
    }
   ],
   "source": [
    "print(type(height))"
   ]
  },
  {
   "cell_type": "code",
   "execution_count": 20,
   "id": "26cc778b",
   "metadata": {},
   "outputs": [
    {
     "data": {
      "text/plain": [
       "int"
      ]
     },
     "execution_count": 20,
     "metadata": {},
     "output_type": "execute_result"
    }
   ],
   "source": [
    "type(15)"
   ]
  },
  {
   "cell_type": "code",
   "execution_count": 21,
   "id": "dffa7e73",
   "metadata": {},
   "outputs": [
    {
     "name": "stdout",
     "output_type": "stream",
     "text": [
      "<class 'int'>\n"
     ]
    }
   ],
   "source": [
    "print(type(15))"
   ]
  },
  {
   "cell_type": "code",
   "execution_count": 22,
   "id": "4fc2df0e",
   "metadata": {},
   "outputs": [
    {
     "name": "stdout",
     "output_type": "stream",
     "text": [
      "<class 'bool'>\n"
     ]
    }
   ],
   "source": [
    "print(type(is_married))"
   ]
  },
  {
   "cell_type": "code",
   "execution_count": 25,
   "id": "89447e0c",
   "metadata": {},
   "outputs": [
    {
     "name": "stdout",
     "output_type": "stream",
     "text": [
      "<class 'str'>\n"
     ]
    }
   ],
   "source": [
    "print(type(name))"
   ]
  },
  {
   "cell_type": "code",
   "execution_count": 27,
   "id": "c5b8c084",
   "metadata": {},
   "outputs": [
    {
     "name": "stdout",
     "output_type": "stream",
     "text": [
      "<class 'str'>\n"
     ]
    }
   ],
   "source": [
    "print(type(\"mayowa\"))"
   ]
  },
  {
   "cell_type": "code",
   "execution_count": 32,
   "id": "48066f80",
   "metadata": {},
   "outputs": [
    {
     "name": "stdout",
     "output_type": "stream",
     "text": [
      "2\n"
     ]
    }
   ],
   "source": [
    "print(4 // 2)"
   ]
  },
  {
   "cell_type": "code",
   "execution_count": 35,
   "id": "fb1d06f8",
   "metadata": {},
   "outputs": [
    {
     "name": "stdout",
     "output_type": "stream",
     "text": [
      "4\n"
     ]
    }
   ],
   "source": [
    "# addition\n",
    "\n",
    "print(2 + 2)"
   ]
  },
  {
   "cell_type": "code",
   "execution_count": 36,
   "id": "445a0f9d",
   "metadata": {},
   "outputs": [
    {
     "name": "stdout",
     "output_type": "stream",
     "text": [
      "6\n"
     ]
    }
   ],
   "source": [
    "# multiply\n",
    "\n",
    "print(2 * 3)"
   ]
  },
  {
   "cell_type": "code",
   "execution_count": 37,
   "id": "72314209",
   "metadata": {},
   "outputs": [
    {
     "name": "stdout",
     "output_type": "stream",
     "text": [
      "1\n"
     ]
    }
   ],
   "source": [
    "# subtraction\n",
    "\n",
    "print(3 - 2)"
   ]
  },
  {
   "cell_type": "code",
   "execution_count": 38,
   "id": "f925ff89",
   "metadata": {},
   "outputs": [
    {
     "name": "stdout",
     "output_type": "stream",
     "text": [
      "2.0\n"
     ]
    }
   ],
   "source": [
    "# division, this will give decimal result\n",
    "\n",
    "print(4 / 2)"
   ]
  },
  {
   "cell_type": "code",
   "execution_count": 39,
   "id": "90c17f22",
   "metadata": {},
   "outputs": [
    {
     "name": "stdout",
     "output_type": "stream",
     "text": [
      "2\n"
     ]
    }
   ],
   "source": [
    "# floor division, this will give round figure result\n",
    "\n",
    "print(4 // 2)"
   ]
  },
  {
   "cell_type": "code",
   "execution_count": 41,
   "id": "24bd3163",
   "metadata": {},
   "outputs": [
    {
     "name": "stdout",
     "output_type": "stream",
     "text": [
      "1\n"
     ]
    }
   ],
   "source": [
    "# modulo, this get the remainder\n",
    "\n",
    "print(5 % 2)"
   ]
  },
  {
   "cell_type": "code",
   "execution_count": 49,
   "id": "62eb13d9",
   "metadata": {},
   "outputs": [
    {
     "name": "stdout",
     "output_type": "stream",
     "text": [
      "aa\n"
     ]
    }
   ],
   "source": [
    "print(\"a\" * 2)"
   ]
  },
  {
   "cell_type": "code",
   "execution_count": 1,
   "id": "773bdc97",
   "metadata": {},
   "outputs": [],
   "source": [
    "x = 2"
   ]
  },
  {
   "cell_type": "code",
   "execution_count": 2,
   "id": "724f8d8a",
   "metadata": {},
   "outputs": [
    {
     "name": "stdout",
     "output_type": "stream",
     "text": [
      "2.0\n"
     ]
    }
   ],
   "source": [
    "print(float(x))"
   ]
  },
  {
   "cell_type": "code",
   "execution_count": 4,
   "id": "dc98d549",
   "metadata": {},
   "outputs": [],
   "source": [
    "y = 3.5"
   ]
  },
  {
   "cell_type": "code",
   "execution_count": 5,
   "id": "6797c5f8",
   "metadata": {},
   "outputs": [
    {
     "name": "stdout",
     "output_type": "stream",
     "text": [
      "3\n"
     ]
    }
   ],
   "source": [
    "print(int(y))"
   ]
  },
  {
   "cell_type": "code",
   "execution_count": 10,
   "id": "a706dfc0",
   "metadata": {},
   "outputs": [],
   "source": [
    "k = \"3.5\""
   ]
  },
  {
   "cell_type": "code",
   "execution_count": 12,
   "id": "37fc48a5",
   "metadata": {},
   "outputs": [
    {
     "name": "stdout",
     "output_type": "stream",
     "text": [
      "3\n"
     ]
    }
   ],
   "source": [
    "print(int(float(k)))"
   ]
  },
  {
   "cell_type": "code",
   "execution_count": 13,
   "id": "c570cdcd",
   "metadata": {},
   "outputs": [],
   "source": [
    "num = 2"
   ]
  },
  {
   "cell_type": "code",
   "execution_count": 15,
   "id": "88cd0b8f",
   "metadata": {},
   "outputs": [
    {
     "name": "stdout",
     "output_type": "stream",
     "text": [
      "<class 'str'>\n"
     ]
    }
   ],
   "source": [
    "print(type(str(num)))"
   ]
  },
  {
   "cell_type": "code",
   "execution_count": 18,
   "id": "fbb19470",
   "metadata": {},
   "outputs": [
    {
     "ename": "TypeError",
     "evalue": "unsupported operand type(s) for +: 'int' and 'str'",
     "output_type": "error",
     "traceback": [
      "\u001b[0;31m------------------------------------------------------------\u001b[0m",
      "\u001b[0;31mTypeError\u001b[0m                  Traceback (most recent call last)",
      "\u001b[0;32m<ipython-input-18-2ad81e3af96a>\u001b[0m in \u001b[0;36m<module>\u001b[0;34m\u001b[0m\n\u001b[0;32m----> 1\u001b[0;31m \u001b[0mcon\u001b[0m \u001b[0;34m=\u001b[0m \u001b[0;36m2\u001b[0m \u001b[0;34m+\u001b[0m \u001b[0;34m\"everyone!\"\u001b[0m\u001b[0;34m\u001b[0m\u001b[0;34m\u001b[0m\u001b[0m\n\u001b[0m",
      "\u001b[0;31mTypeError\u001b[0m: unsupported operand type(s) for +: 'int' and 'str'"
     ]
    }
   ],
   "source": [
    "con = \"Hello \" + \"everyone!\""
   ]
  },
  {
   "cell_type": "code",
   "execution_count": 17,
   "id": "d37101c7",
   "metadata": {},
   "outputs": [
    {
     "name": "stdout",
     "output_type": "stream",
     "text": [
      "Hello everyone!\n"
     ]
    }
   ],
   "source": [
    "print(con)"
   ]
  },
  {
   "cell_type": "code",
   "execution_count": 20,
   "id": "e952981c",
   "metadata": {},
   "outputs": [
    {
     "ename": "TypeError",
     "evalue": "can only concatenate str (not \"int\") to str",
     "output_type": "error",
     "traceback": [
      "\u001b[0;31m------------------------------------------------------------\u001b[0m",
      "\u001b[0;31mTypeError\u001b[0m                  Traceback (most recent call last)",
      "\u001b[0;32m<ipython-input-20-fdd606bc27bf>\u001b[0m in \u001b[0;36m<module>\u001b[0;34m\u001b[0m\n\u001b[0;32m----> 1\u001b[0;31m \u001b[0mprint\u001b[0m\u001b[0;34m(\u001b[0m\u001b[0;34m\"Hello \"\u001b[0m \u001b[0;34m+\u001b[0m \u001b[0;36m8\u001b[0m\u001b[0;34m)\u001b[0m\u001b[0;34m\u001b[0m\u001b[0;34m\u001b[0m\u001b[0m\n\u001b[0m",
      "\u001b[0;31mTypeError\u001b[0m: can only concatenate str (not \"int\") to str"
     ]
    }
   ],
   "source": [
    "print(\"Hello \" + 8)"
   ]
  },
  {
   "cell_type": "code",
   "execution_count": 23,
   "id": "cf3ee131",
   "metadata": {},
   "outputs": [
    {
     "ename": "SyntaxError",
     "evalue": "invalid syntax (<ipython-input-23-86b572b472d7>, line 1)",
     "output_type": "error",
     "traceback": [
      "\u001b[0;36m  File \u001b[0;32m\"<ipython-input-23-86b572b472d7>\"\u001b[0;36m, line \u001b[0;32m1\u001b[0m\n\u001b[0;31m    print('mayowa's phone')\u001b[0m\n\u001b[0m                  ^\u001b[0m\n\u001b[0;31mSyntaxError\u001b[0m\u001b[0;31m:\u001b[0m invalid syntax\n"
     ]
    }
   ],
   "source": [
    "print(\"mayowa\"s phone)"
   ]
  },
  {
   "cell_type": "code",
   "execution_count": 26,
   "id": "2930065c",
   "metadata": {},
   "outputs": [
    {
     "name": "stdout",
     "output_type": "stream",
     "text": [
      "mayowa's number\n"
     ]
    }
   ],
   "source": [
    "print(\"mayowa's number\")"
   ]
  },
  {
   "cell_type": "code",
   "execution_count": 39,
   "id": "73ce4bbd",
   "metadata": {},
   "outputs": [
    {
     "name": "stdout",
     "output_type": "stream",
     "text": [
      "enter an integer: 20\n",
      "The total number is 30\n"
     ]
    }
   ],
   "source": [
    "number = int(input(\"enter an integer: \"))\n",
    "total = number + 10\n",
    "print(f\"\")"
   ]
  },
  {
   "cell_type": "code",
   "execution_count": 49,
   "id": "c14a7706",
   "metadata": {},
   "outputs": [],
   "source": [
    "x = \"25 Dec 1990\""
   ]
  },
  {
   "cell_type": "code",
   "execution_count": 58,
   "id": "70d1cc39",
   "metadata": {},
   "outputs": [],
   "source": [
    "our_year = x[7:11]"
   ]
  },
  {
   "cell_type": "code",
   "execution_count": 59,
   "id": "63363724",
   "metadata": {},
   "outputs": [
    {
     "name": "stdout",
     "output_type": "stream",
     "text": [
      "The year is 1990\n"
     ]
    }
   ],
   "source": [
    "print(f\"The year is {our_year}\")"
   ]
  },
  {
   "cell_type": "code",
   "execution_count": 60,
   "id": "4c55a25f",
   "metadata": {},
   "outputs": [],
   "source": [
    "b = \"mayowa\""
   ]
  },
  {
   "cell_type": "code",
   "execution_count": 64,
   "id": "3237902a",
   "metadata": {},
   "outputs": [
    {
     "name": "stdout",
     "output_type": "stream",
     "text": [
      "wa\n"
     ]
    }
   ],
   "source": [
    "print(b[-2:])"
   ]
  },
  {
   "cell_type": "code",
   "execution_count": 78,
   "id": "1e01546f",
   "metadata": {},
   "outputs": [],
   "source": [
    "empty_list = [1, 2, 3, 4, 5]"
   ]
  },
  {
   "cell_type": "code",
   "execution_count": 79,
   "id": "8d61f079",
   "metadata": {},
   "outputs": [],
   "source": [
    "empty_list.append(6)"
   ]
  },
  {
   "cell_type": "code",
   "execution_count": 80,
   "id": "d9fb22c3",
   "metadata": {},
   "outputs": [
    {
     "name": "stdout",
     "output_type": "stream",
     "text": [
      "[1, 2, 3, 4, 5, 6]\n"
     ]
    }
   ],
   "source": [
    "print(empty_list)"
   ]
  },
  {
   "cell_type": "code",
   "execution_count": 109,
   "id": "ab13fb65",
   "metadata": {},
   "outputs": [],
   "source": [
    "empty = []"
   ]
  },
  {
   "cell_type": "code",
   "execution_count": 110,
   "id": "1e36db44",
   "metadata": {},
   "outputs": [],
   "source": [
    "student = [\"mayowa\", \"desmond\", \"seyi\", \"evans\"]"
   ]
  },
  {
   "cell_type": "code",
   "execution_count": 111,
   "id": "a00193b1",
   "metadata": {},
   "outputs": [],
   "source": [
    "empty.append(student[0])\n",
    "empty.append(student[1])\n",
    "empty.append(student[2])\n",
    "empty.append(student[3])"
   ]
  },
  {
   "cell_type": "code",
   "execution_count": 112,
   "id": "907490e8",
   "metadata": {},
   "outputs": [
    {
     "name": "stdout",
     "output_type": "stream",
     "text": [
      "['mayowa', 'desmond', 'seyi', 'evans']\n"
     ]
    }
   ],
   "source": [
    "print(empty)"
   ]
  },
  {
   "cell_type": "code",
   "execution_count": 116,
   "id": "4ad53247",
   "metadata": {},
   "outputs": [
    {
     "name": "stdout",
     "output_type": "stream",
     "text": [
      "['mayowa', 'desmond', 'seyi', 'evans']\n"
     ]
    }
   ],
   "source": [
    "print(empty)"
   ]
  },
  {
   "cell_type": "code",
   "execution_count": 117,
   "id": "90d0fa02",
   "metadata": {},
   "outputs": [],
   "source": [
    "empty.remove(empty[-1])"
   ]
  },
  {
   "cell_type": "code",
   "execution_count": 118,
   "id": "cff0a453",
   "metadata": {},
   "outputs": [
    {
     "name": "stdout",
     "output_type": "stream",
     "text": [
      "['mayowa', 'desmond', 'seyi']\n"
     ]
    }
   ],
   "source": [
    "print(empty)"
   ]
  },
  {
   "cell_type": "code",
   "execution_count": 113,
   "id": "a13f0158",
   "metadata": {},
   "outputs": [],
   "source": [
    "student = [\"mayowa\", \"desmond\", \"seyi\", \"evans\"]"
   ]
  },
  {
   "cell_type": "code",
   "execution_count": 114,
   "id": "dddf64a7",
   "metadata": {},
   "outputs": [],
   "source": [
    "student.remove(student[-1])"
   ]
  },
  {
   "cell_type": "code",
   "execution_count": 115,
   "id": "3bd8e2d7",
   "metadata": {},
   "outputs": [
    {
     "name": "stdout",
     "output_type": "stream",
     "text": [
      "['mayowa', 'desmond', 'seyi']\n"
     ]
    }
   ],
   "source": [
    "print(student)"
   ]
  },
  {
   "cell_type": "code",
   "execution_count": 119,
   "id": "5ac6a727",
   "metadata": {},
   "outputs": [],
   "source": [
    "a = [1, 2]\n",
    "b = [10, 20]"
   ]
  },
  {
   "cell_type": "code",
   "execution_count": 125,
   "id": "3f0ed9de",
   "metadata": {},
   "outputs": [
    {
     "name": "stdout",
     "output_type": "stream",
     "text": [
      "[1, 2, 10, 20]\n"
     ]
    }
   ],
   "source": [
    "print(a + b)"
   ]
  },
  {
   "cell_type": "code",
   "execution_count": 141,
   "id": "66450c0b",
   "metadata": {},
   "outputs": [],
   "source": [
    "nested = [['A', 'man'], ['a', 'plan'], ['a', 'canal'], ['Panama', '!']]"
   ]
  },
  {
   "cell_type": "code",
   "execution_count": 127,
   "id": "3226f471",
   "metadata": {},
   "outputs": [
    {
     "name": "stdout",
     "output_type": "stream",
     "text": [
      "4\n"
     ]
    }
   ],
   "source": [
    "print(len(nested))"
   ]
  },
  {
   "cell_type": "code",
   "execution_count": 146,
   "id": "4eb87e7f",
   "metadata": {},
   "outputs": [
    {
     "name": "stdout",
     "output_type": "stream",
     "text": [
      "['a', 'plan', 'a', 'canal']\n"
     ]
    }
   ],
   "source": [
    "print(nested[1] + nested[2])"
   ]
  },
  {
   "cell_type": "code",
   "execution_count": 148,
   "id": "66a243f8",
   "metadata": {},
   "outputs": [
    {
     "name": "stdout",
     "output_type": "stream",
     "text": [
      "4\n"
     ]
    }
   ],
   "source": [
    "print(len(nested[1] + nested[2]))"
   ]
  },
  {
   "cell_type": "code",
   "execution_count": 136,
   "id": "7e571dd7",
   "metadata": {},
   "outputs": [
    {
     "name": "stdout",
     "output_type": "stream",
     "text": [
      "[['a', 'plan'], ['a', 'canal']]\n"
     ]
    }
   ],
   "source": [
    "print(nested[1:3])"
   ]
  },
  {
   "cell_type": "code",
   "execution_count": 143,
   "id": "63403197",
   "metadata": {},
   "outputs": [
    {
     "name": "stdout",
     "output_type": "stream",
     "text": [
      "['a', 'plan', 'a', 'canal']\n"
     ]
    }
   ],
   "source": [
    "first = nested[1]\n",
    "second = nested[2]\n",
    "print(first + second)"
   ]
  },
  {
   "cell_type": "code",
   "execution_count": null,
   "id": "e508635b",
   "metadata": {},
   "outputs": [],
   "source": []
  },
  {
   "cell_type": "code",
   "execution_count": null,
   "id": "cd7971f8",
   "metadata": {},
   "outputs": [],
   "source": [
    "['a', 'plan', 'a', 'canal']"
   ]
  },
  {
   "cell_type": "code",
   "execution_count": 151,
   "id": "1a18fd11",
   "metadata": {},
   "outputs": [],
   "source": [
    "numbers = [1, 1, 3]"
   ]
  },
  {
   "cell_type": "code",
   "execution_count": 156,
   "id": "e3edb8d8",
   "metadata": {},
   "outputs": [],
   "source": [
    "total = sum(numbers)\n",
    "length = len(numbers)"
   ]
  },
  {
   "cell_type": "code",
   "execution_count": 157,
   "id": "8701413d",
   "metadata": {},
   "outputs": [
    {
     "name": "stdout",
     "output_type": "stream",
     "text": [
      "1.6666666666666667\n"
     ]
    }
   ],
   "source": [
    "print(total/length)"
   ]
  },
  {
   "cell_type": "code",
   "execution_count": 158,
   "id": "8edd58cc",
   "metadata": {},
   "outputs": [
    {
     "name": "stdout",
     "output_type": "stream",
     "text": [
      "1\n"
     ]
    }
   ],
   "source": [
    "print(min(numbers))"
   ]
  },
  {
   "cell_type": "code",
   "execution_count": 159,
   "id": "05f2ad5b",
   "metadata": {},
   "outputs": [
    {
     "name": "stdout",
     "output_type": "stream",
     "text": [
      "3\n"
     ]
    }
   ],
   "source": [
    "print(max(numbers))"
   ]
  },
  {
   "cell_type": "code",
   "execution_count": 184,
   "id": "32b34b05",
   "metadata": {},
   "outputs": [],
   "source": [
    "lst = [1, 4, 3, 7]"
   ]
  },
  {
   "cell_type": "code",
   "execution_count": 163,
   "id": "18052289",
   "metadata": {},
   "outputs": [
    {
     "name": "stdout",
     "output_type": "stream",
     "text": [
      "[7, 4, 3, 1]\n"
     ]
    }
   ],
   "source": [
    "print(sorted(lst, reverse=True))"
   ]
  },
  {
   "cell_type": "code",
   "execution_count": 186,
   "id": "dc7570d4",
   "metadata": {},
   "outputs": [],
   "source": [
    "lst.reverse()"
   ]
  },
  {
   "cell_type": "code",
   "execution_count": 187,
   "id": "fc3205bc",
   "metadata": {},
   "outputs": [
    {
     "name": "stdout",
     "output_type": "stream",
     "text": [
      "[1, 4, 3, 7]\n"
     ]
    }
   ],
   "source": [
    "print(lst)"
   ]
  },
  {
   "cell_type": "code",
   "execution_count": 175,
   "id": "09e67514",
   "metadata": {},
   "outputs": [],
   "source": [
    "statement = \"I love you\""
   ]
  },
  {
   "cell_type": "code",
   "execution_count": 177,
   "id": "38e43258",
   "metadata": {},
   "outputs": [
    {
     "name": "stdout",
     "output_type": "stream",
     "text": [
      "I love mayowa\n"
     ]
    }
   ],
   "source": [
    "print(statement.replace(\"you\", \"mayowa\"))"
   ]
  },
  {
   "cell_type": "code",
   "execution_count": 178,
   "id": "a79f412d",
   "metadata": {},
   "outputs": [],
   "source": [
    "text = \"testing my new\""
   ]
  },
  {
   "cell_type": "code",
   "execution_count": 179,
   "id": "936cf846",
   "metadata": {},
   "outputs": [
    {
     "name": "stdout",
     "output_type": "stream",
     "text": [
      "testing my function\n"
     ]
    }
   ],
   "source": [
    "print(text.replace(\"new\", \"function\"))"
   ]
  },
  {
   "cell_type": "markdown",
   "id": "a51e0775",
   "metadata": {},
   "source": [
    "# sets"
   ]
  },
  {
   "cell_type": "code",
   "execution_count": 188,
   "id": "d7e111c6",
   "metadata": {},
   "outputs": [],
   "source": [
    "dupe_list = [1,2,2,3,3,3,4,4,4,4,5,5,5,5,5]"
   ]
  },
  {
   "cell_type": "code",
   "execution_count": 189,
   "id": "9d38433a",
   "metadata": {},
   "outputs": [
    {
     "name": "stdout",
     "output_type": "stream",
     "text": [
      "{1, 2, 3, 4, 5}\n"
     ]
    }
   ],
   "source": [
    "print(set(dupe_list))"
   ]
  },
  {
   "cell_type": "code",
   "execution_count": 190,
   "id": "ff365893",
   "metadata": {},
   "outputs": [],
   "source": [
    "names = [\"ayo\", \"deji\", \"ayo\"]"
   ]
  },
  {
   "cell_type": "code",
   "execution_count": 192,
   "id": "06777f7e",
   "metadata": {},
   "outputs": [],
   "source": [
    "new_set = set(names)"
   ]
  },
  {
   "cell_type": "code",
   "execution_count": 194,
   "id": "2abbfbc6",
   "metadata": {},
   "outputs": [
    {
     "name": "stdout",
     "output_type": "stream",
     "text": [
      "['deji', 'ayo']\n"
     ]
    }
   ],
   "source": [
    "print(list(new_set))"
   ]
  },
  {
   "cell_type": "code",
   "execution_count": 195,
   "id": "8ba80cc1",
   "metadata": {},
   "outputs": [],
   "source": [
    "dupe_list = [1,2,2,3,3,3,4,4,4,4,5,5,5,5,5]"
   ]
  },
  {
   "cell_type": "code",
   "execution_count": 196,
   "id": "540e445b",
   "metadata": {},
   "outputs": [],
   "source": [
    "remove_duplicates = set(dupe_list)"
   ]
  },
  {
   "cell_type": "code",
   "execution_count": 200,
   "id": "bd66cabe",
   "metadata": {},
   "outputs": [],
   "source": [
    "list_convert = list(remove_duplicates)"
   ]
  },
  {
   "cell_type": "code",
   "execution_count": 201,
   "id": "5585ee00",
   "metadata": {},
   "outputs": [
    {
     "name": "stdout",
     "output_type": "stream",
     "text": [
      "[1, 2, 3, 4, 5]\n"
     ]
    }
   ],
   "source": [
    "print(list_convert)"
   ]
  },
  {
   "cell_type": "markdown",
   "id": "e13b612d",
   "metadata": {},
   "source": [
    "# Tuple"
   ]
  },
  {
   "cell_type": "code",
   "execution_count": 202,
   "id": "f430dc19",
   "metadata": {},
   "outputs": [],
   "source": [
    "first_tuple = (1, 2, 3, 4)"
   ]
  },
  {
   "cell_type": "code",
   "execution_count": 203,
   "id": "c1fdefe9",
   "metadata": {},
   "outputs": [
    {
     "name": "stdout",
     "output_type": "stream",
     "text": [
      "<class 'tuple'>\n"
     ]
    }
   ],
   "source": [
    "print(type(first_tuple))"
   ]
  },
  {
   "cell_type": "code",
   "execution_count": 204,
   "id": "9cde0c42",
   "metadata": {},
   "outputs": [
    {
     "ename": "AttributeError",
     "evalue": "'tuple' object has no attribute 'append'",
     "output_type": "error",
     "traceback": [
      "\u001b[0;31m------------------------------------------------------------\u001b[0m",
      "\u001b[0;31mAttributeError\u001b[0m             Traceback (most recent call last)",
      "\u001b[0;32m<ipython-input-204-f521cd615522>\u001b[0m in \u001b[0;36m<module>\u001b[0;34m\u001b[0m\n\u001b[0;32m----> 1\u001b[0;31m \u001b[0mfirst_tuple\u001b[0m\u001b[0;34m.\u001b[0m\u001b[0mappend\u001b[0m\u001b[0;34m(\u001b[0m\u001b[0;36m7\u001b[0m\u001b[0;34m)\u001b[0m\u001b[0;34m\u001b[0m\u001b[0;34m\u001b[0m\u001b[0m\n\u001b[0m",
      "\u001b[0;31mAttributeError\u001b[0m: 'tuple' object has no attribute 'append'"
     ]
    }
   ],
   "source": [
    "# you cannot append into a tuple\n",
    "first_tuple.append(7)"
   ]
  },
  {
   "cell_type": "code",
   "execution_count": 205,
   "id": "3d4c6182",
   "metadata": {},
   "outputs": [],
   "source": [
    "convert = list(first_tuple)"
   ]
  },
  {
   "cell_type": "code",
   "execution_count": 207,
   "id": "d979c2d2",
   "metadata": {},
   "outputs": [
    {
     "name": "stdout",
     "output_type": "stream",
     "text": [
      "[1, 2, 3, 4]\n"
     ]
    }
   ],
   "source": [
    "print(convert)"
   ]
  },
  {
   "cell_type": "code",
   "execution_count": 208,
   "id": "8e8ec4d4",
   "metadata": {},
   "outputs": [],
   "source": [
    "convert.append(10)"
   ]
  },
  {
   "cell_type": "code",
   "execution_count": 209,
   "id": "f4903ddf",
   "metadata": {},
   "outputs": [
    {
     "name": "stdout",
     "output_type": "stream",
     "text": [
      "[1, 2, 3, 4, 10]\n"
     ]
    }
   ],
   "source": [
    "print(convert)"
   ]
  },
  {
   "cell_type": "code",
   "execution_count": 210,
   "id": "e8f317b3",
   "metadata": {},
   "outputs": [],
   "source": [
    "tuple_convert = tuple(convert)"
   ]
  },
  {
   "cell_type": "code",
   "execution_count": 213,
   "id": "6bdd9e55",
   "metadata": {},
   "outputs": [
    {
     "name": "stdout",
     "output_type": "stream",
     "text": [
      "(1, 2, 3, 4, 10)\n"
     ]
    }
   ],
   "source": [
    "print(tuple_convert)"
   ]
  },
  {
   "cell_type": "code",
   "execution_count": 212,
   "id": "bf872f6c",
   "metadata": {},
   "outputs": [
    {
     "name": "stdout",
     "output_type": "stream",
     "text": [
      "<class 'tuple'>\n"
     ]
    }
   ],
   "source": [
    "print(type(tuple_convert))"
   ]
  },
  {
   "cell_type": "markdown",
   "id": "6d0a4ad6",
   "metadata": {},
   "source": [
    "# Dictionary"
   ]
  },
  {
   "cell_type": "code",
   "execution_count": 214,
   "id": "51aa5c36",
   "metadata": {},
   "outputs": [],
   "source": [
    "ages = {'Brian':23, 'Amy':22, 'Darlene':47, 'Ralph':32, 'Jordan':28, 'Stephanie':35}"
   ]
  },
  {
   "cell_type": "code",
   "execution_count": 215,
   "id": "66de9367",
   "metadata": {},
   "outputs": [
    {
     "name": "stdout",
     "output_type": "stream",
     "text": [
      "<class 'dict'>\n"
     ]
    }
   ],
   "source": [
    "print(type(ages))"
   ]
  },
  {
   "cell_type": "code",
   "execution_count": 218,
   "id": "410927a8",
   "metadata": {},
   "outputs": [],
   "source": [
    "first = ages[\"Amy\"]"
   ]
  },
  {
   "cell_type": "code",
   "execution_count": 219,
   "id": "e7d406a0",
   "metadata": {},
   "outputs": [
    {
     "name": "stdout",
     "output_type": "stream",
     "text": [
      "22\n"
     ]
    }
   ],
   "source": [
    "print(first)"
   ]
  },
  {
   "cell_type": "code",
   "execution_count": 220,
   "id": "80d59c15",
   "metadata": {},
   "outputs": [
    {
     "name": "stdout",
     "output_type": "stream",
     "text": [
      "dict_keys(['Brian', 'Amy', 'Darlene', 'Ralph', 'Jordan', 'Stephanie'])\n"
     ]
    }
   ],
   "source": [
    "print(ages.keys())"
   ]
  },
  {
   "cell_type": "code",
   "execution_count": 221,
   "id": "11e6d4fc",
   "metadata": {},
   "outputs": [
    {
     "name": "stdout",
     "output_type": "stream",
     "text": [
      "dict_values([23, 22, 47, 32, 28, 35])\n"
     ]
    }
   ],
   "source": [
    "print(ages.values())"
   ]
  },
  {
   "cell_type": "code",
   "execution_count": 222,
   "id": "3712e17f",
   "metadata": {},
   "outputs": [
    {
     "name": "stdout",
     "output_type": "stream",
     "text": [
      "{'Brian': 23, 'Amy': 22, 'Darlene': 47, 'Ralph': 32, 'Jordan': 28, 'Stephanie': 35}\n"
     ]
    }
   ],
   "source": [
    "print(ages)"
   ]
  },
  {
   "cell_type": "code",
   "execution_count": 223,
   "id": "00840719",
   "metadata": {},
   "outputs": [],
   "source": [
    "ages['Vanessa'] = 30"
   ]
  },
  {
   "cell_type": "code",
   "execution_count": 224,
   "id": "f28009ea",
   "metadata": {},
   "outputs": [
    {
     "name": "stdout",
     "output_type": "stream",
     "text": [
      "{'Brian': 23, 'Amy': 22, 'Darlene': 47, 'Ralph': 32, 'Jordan': 28, 'Stephanie': 35, 'Vanessa': 30}\n"
     ]
    }
   ],
   "source": [
    "print(ages)"
   ]
  },
  {
   "cell_type": "code",
   "execution_count": 225,
   "id": "c20fe30e",
   "metadata": {},
   "outputs": [],
   "source": [
    "del ages['Vanessa']"
   ]
  },
  {
   "cell_type": "code",
   "execution_count": 226,
   "id": "41597fa3",
   "metadata": {},
   "outputs": [
    {
     "name": "stdout",
     "output_type": "stream",
     "text": [
      "{'Brian': 23, 'Amy': 22, 'Darlene': 47, 'Ralph': 32, 'Jordan': 28, 'Stephanie': 35}\n"
     ]
    }
   ],
   "source": [
    "print(ages)"
   ]
  },
  {
   "cell_type": "markdown",
   "id": "8d712928",
   "metadata": {},
   "source": [
    "# Range"
   ]
  },
  {
   "cell_type": "code",
   "execution_count": 1,
   "id": "3cabe7ef",
   "metadata": {},
   "outputs": [],
   "source": [
    "new = range(10)"
   ]
  },
  {
   "cell_type": "code",
   "execution_count": 3,
   "id": "d654377c",
   "metadata": {},
   "outputs": [],
   "source": [
    "range_list = list(range(10))"
   ]
  },
  {
   "cell_type": "code",
   "execution_count": 4,
   "id": "3d292d90",
   "metadata": {},
   "outputs": [
    {
     "name": "stdout",
     "output_type": "stream",
     "text": [
      "[0, 1, 2, 3, 4, 5, 6, 7, 8, 9]\n"
     ]
    }
   ],
   "source": [
    "print(range_list)"
   ]
  },
  {
   "cell_type": "code",
   "execution_count": null,
   "id": "81b3a5e1",
   "metadata": {},
   "outputs": [],
   "source": []
  },
  {
   "cell_type": "markdown",
   "id": "bb453df2",
   "metadata": {},
   "source": [
    "# CONTROL FLOW"
   ]
  },
  {
   "cell_type": "markdown",
   "id": "a76cdd16",
   "metadata": {},
   "source": [
    "## Python condition evaluators"
   ]
  },
  {
   "cell_type": "code",
   "execution_count": 8,
   "id": "3f8858ff",
   "metadata": {},
   "outputs": [
    {
     "name": "stdout",
     "output_type": "stream",
     "text": [
      "False\n"
     ]
    }
   ],
   "source": [
    "#evaluators\n",
    "print(2 == 3)"
   ]
  },
  {
   "cell_type": "code",
   "execution_count": 9,
   "id": "6056e06f",
   "metadata": {},
   "outputs": [],
   "source": [
    "x = \"mayowa\"\n",
    "y = \"Mayowa\""
   ]
  },
  {
   "cell_type": "code",
   "execution_count": 10,
   "id": "27e464c4",
   "metadata": {},
   "outputs": [
    {
     "name": "stdout",
     "output_type": "stream",
     "text": [
      "False\n"
     ]
    }
   ],
   "source": [
    "print(x == y)"
   ]
  },
  {
   "cell_type": "code",
   "execution_count": 11,
   "id": "ed8f381c",
   "metadata": {},
   "outputs": [
    {
     "name": "stdout",
     "output_type": "stream",
     "text": [
      "mayowa\n"
     ]
    }
   ],
   "source": [
    "print(y.lower())"
   ]
  },
  {
   "cell_type": "code",
   "execution_count": 12,
   "id": "a4fe8fd9",
   "metadata": {},
   "outputs": [
    {
     "name": "stdout",
     "output_type": "stream",
     "text": [
      "MAYOWA\n"
     ]
    }
   ],
   "source": [
    "print(y.upper())"
   ]
  },
  {
   "cell_type": "code",
   "execution_count": 13,
   "id": "07210e82",
   "metadata": {},
   "outputs": [
    {
     "name": "stdout",
     "output_type": "stream",
     "text": [
      "True\n"
     ]
    }
   ],
   "source": [
    "#equal to\n",
    "print(x == y.lower())"
   ]
  },
  {
   "cell_type": "code",
   "execution_count": 14,
   "id": "3a571061",
   "metadata": {},
   "outputs": [
    {
     "name": "stdout",
     "output_type": "stream",
     "text": [
      "True\n"
     ]
    }
   ],
   "source": [
    "#not equal to\n",
    "print(3 != 2)"
   ]
  },
  {
   "cell_type": "code",
   "execution_count": 15,
   "id": "900c2dcc",
   "metadata": {},
   "outputs": [
    {
     "name": "stdout",
     "output_type": "stream",
     "text": [
      "True\n"
     ]
    }
   ],
   "source": [
    "print(3 > 1)"
   ]
  },
  {
   "cell_type": "code",
   "execution_count": 16,
   "id": "2a062db3",
   "metadata": {},
   "outputs": [
    {
     "name": "stdout",
     "output_type": "stream",
     "text": [
      "True\n"
     ]
    }
   ],
   "source": [
    "print(10 < 20)"
   ]
  },
  {
   "cell_type": "code",
   "execution_count": 17,
   "id": "f7082f8d",
   "metadata": {},
   "outputs": [
    {
     "name": "stdout",
     "output_type": "stream",
     "text": [
      "True\n"
     ]
    }
   ],
   "source": [
    "print(5 >= 5)"
   ]
  },
  {
   "cell_type": "code",
   "execution_count": 18,
   "id": "39986495",
   "metadata": {},
   "outputs": [
    {
     "name": "stdout",
     "output_type": "stream",
     "text": [
      "False\n"
     ]
    }
   ],
   "source": [
    "print(5 <= 3)"
   ]
  },
  {
   "cell_type": "code",
   "execution_count": 19,
   "id": "0e240061",
   "metadata": {},
   "outputs": [],
   "source": [
    "name = \"mayowa\""
   ]
  },
  {
   "cell_type": "code",
   "execution_count": 20,
   "id": "82eeae80",
   "metadata": {},
   "outputs": [
    {
     "name": "stdout",
     "output_type": "stream",
     "text": [
      "True\n"
     ]
    }
   ],
   "source": [
    "print(\"a\" in name)"
   ]
  },
  {
   "cell_type": "code",
   "execution_count": 21,
   "id": "ad354387",
   "metadata": {},
   "outputs": [
    {
     "name": "stdout",
     "output_type": "stream",
     "text": [
      "True\n"
     ]
    }
   ],
   "source": [
    "print(\"A\" not in name)"
   ]
  },
  {
   "cell_type": "code",
   "execution_count": 22,
   "id": "fde124fe",
   "metadata": {},
   "outputs": [
    {
     "name": "stdout",
     "output_type": "stream",
     "text": [
      "True\n"
     ]
    }
   ],
   "source": [
    "print(3 in [1,2,3,4,5])"
   ]
  },
  {
   "cell_type": "code",
   "execution_count": 23,
   "id": "7565b60e",
   "metadata": {},
   "outputs": [
    {
     "name": "stdout",
     "output_type": "stream",
     "text": [
      "False\n"
     ]
    }
   ],
   "source": [
    "print(3 not in [1,2,3,4,5])"
   ]
  },
  {
   "cell_type": "code",
   "execution_count": 24,
   "id": "075316bb",
   "metadata": {},
   "outputs": [
    {
     "name": "stdout",
     "output_type": "stream",
     "text": [
      "True\n"
     ]
    }
   ],
   "source": [
    "print((5 + 5 == 10) & ('apple' != 'orange')) "
   ]
  },
  {
   "cell_type": "code",
   "execution_count": 25,
   "id": "a40b5b61",
   "metadata": {},
   "outputs": [
    {
     "name": "stdout",
     "output_type": "stream",
     "text": [
      "False\n"
     ]
    }
   ],
   "source": [
    "print((5 + 5 == 11) & ('apple' != 'orange')) "
   ]
  },
  {
   "cell_type": "code",
   "execution_count": 26,
   "id": "deca4e68",
   "metadata": {},
   "outputs": [
    {
     "name": "stdout",
     "output_type": "stream",
     "text": [
      "True\n"
     ]
    }
   ],
   "source": [
    "print((100 > 75) | (93 < 80))"
   ]
  },
  {
   "cell_type": "code",
   "execution_count": 27,
   "id": "f91844eb",
   "metadata": {},
   "outputs": [
    {
     "name": "stdout",
     "output_type": "stream",
     "text": [
      "False\n"
     ]
    }
   ],
   "source": [
    "print((93 < 80) | (3 not in [1,2,3,4,5]))"
   ]
  },
  {
   "cell_type": "markdown",
   "id": "6f6962cc",
   "metadata": {},
   "source": [
    "# Conditional logic"
   ]
  },
  {
   "cell_type": "code",
   "execution_count": 34,
   "id": "8921e5a5",
   "metadata": {},
   "outputs": [],
   "source": [
    "x = 6"
   ]
  },
  {
   "cell_type": "code",
   "execution_count": 35,
   "id": "8a239bb5",
   "metadata": {},
   "outputs": [
    {
     "name": "stdout",
     "output_type": "stream",
     "text": [
      "x is not 5\n"
     ]
    }
   ],
   "source": [
    "if x == 5:\n",
    "    print(\"x is 5\")\n",
    "else:\n",
    "    print(\"x is not 5\")\n",
    "    \n"
   ]
  },
  {
   "cell_type": "code",
   "execution_count": 38,
   "id": "85889a1b",
   "metadata": {},
   "outputs": [],
   "source": [
    "j = 3"
   ]
  },
  {
   "cell_type": "code",
   "execution_count": 40,
   "id": "17a8ddcf",
   "metadata": {},
   "outputs": [
    {
     "name": "stdout",
     "output_type": "stream",
     "text": [
      "13\n"
     ]
    }
   ],
   "source": [
    "if x > 2:\n",
    "    operation = j + 10\n",
    "    print(operation)\n",
    "else:\n",
    "    print(\"x is greater than 2\")\n",
    "    "
   ]
  },
  {
   "cell_type": "code",
   "execution_count": 41,
   "id": "fd9102e7",
   "metadata": {},
   "outputs": [],
   "source": [
    "lst = [1, 2, 4, 3, 6]"
   ]
  },
  {
   "cell_type": "code",
   "execution_count": 42,
   "id": "f43d78f1",
   "metadata": {},
   "outputs": [
    {
     "name": "stdout",
     "output_type": "stream",
     "text": [
      "the list contain integer 3\n"
     ]
    }
   ],
   "source": [
    "if 3 in lst:\n",
    "    print(\"the list contain integer 3\")\n",
    "else:\n",
    "    print(\"please 3 is not in the list\")"
   ]
  },
  {
   "cell_type": "code",
   "execution_count": 44,
   "id": "2802b767",
   "metadata": {},
   "outputs": [
    {
     "name": "stdout",
     "output_type": "stream",
     "text": [
      "please 7 is not in the list\n"
     ]
    }
   ],
   "source": [
    "if 7 in lst:\n",
    "    print(\"the list contain integer 7\")\n",
    "else:\n",
    "    print(\"please 7 is not in the list\")"
   ]
  },
  {
   "cell_type": "code",
   "execution_count": 47,
   "id": "7a75487c",
   "metadata": {},
   "outputs": [
    {
     "name": "stdout",
     "output_type": "stream",
     "text": [
      "enter your age: 17\n",
      "you are too young, hence you are not eligible to watch porn\n"
     ]
    }
   ],
   "source": [
    "age = int(input(\"enter your age: \"))\n",
    "\n",
    "if age >= 18:\n",
    "    print(\"you are eligible to watch porn\")\n",
    "else:\n",
    "    print(\"you are too young, hence you are not eligible to watch porn\")"
   ]
  },
  {
   "cell_type": "code",
   "execution_count": 48,
   "id": "c2643cfc",
   "metadata": {},
   "outputs": [
    {
     "name": "stdout",
     "output_type": "stream",
     "text": [
      "enter your age: 20\n",
      "you are eligible to watch porn\n"
     ]
    }
   ],
   "source": [
    "age = int(input(\"enter your age: \"))\n",
    "\n",
    "if age >= 18:\n",
    "    print(\"you are eligible to watch porn\")\n",
    "else:\n",
    "    print(\"you are too young, hence you are not eligible to watch porn\")"
   ]
  },
  {
   "cell_type": "code",
   "execution_count": 49,
   "id": "75d3011e",
   "metadata": {},
   "outputs": [
    {
     "name": "stdout",
     "output_type": "stream",
     "text": [
      "How old are you: 20\n",
      "30\n"
     ]
    }
   ],
   "source": [
    "age = int(input(\"How old are you: \"))\n",
    "\n",
    "if type(age) == int:\n",
    "    total = age + 10\n",
    "    print(total)\n",
    "else:\n",
    "    print(\"Please enter a valid age digit\")"
   ]
  },
  {
   "cell_type": "code",
   "execution_count": 62,
   "id": "e5dc0431",
   "metadata": {},
   "outputs": [],
   "source": [
    "number = 1"
   ]
  },
  {
   "cell_type": "code",
   "execution_count": 63,
   "id": "913eaac7",
   "metadata": {},
   "outputs": [
    {
     "name": "stdout",
     "output_type": "stream",
     "text": [
      "number is less than 7\n"
     ]
    }
   ],
   "source": [
    "if number < 7:\n",
    "    print(\"number is less than 7\")\n",
    "elif number > 7:\n",
    "    print(\"number is greater than 7\")\n",
    "else:\n",
    "    print(\"number is 7\")"
   ]
  },
  {
   "cell_type": "code",
   "execution_count": 68,
   "id": "300cd736",
   "metadata": {},
   "outputs": [],
   "source": [
    "new_lst = [1, 43, 6, 3, 6, 3]"
   ]
  },
  {
   "cell_type": "code",
   "execution_count": 69,
   "id": "62ba576a",
   "metadata": {},
   "outputs": [
    {
     "name": "stdout",
     "output_type": "stream",
     "text": [
      "The total element in the list is greater than 5\n"
     ]
    }
   ],
   "source": [
    "if len(new_lst) > 5:\n",
    "    print(\"The total element in the list is greater than 5\")\n",
    "elif len(new_lst) < 5:\n",
    "    print(\"The total elemeht in the list is less than 5\")\n",
    "else:\n",
    "    print(\"The Total element in the list is 5\")"
   ]
  },
  {
   "cell_type": "code",
   "execution_count": null,
   "id": "88449d90",
   "metadata": {},
   "outputs": [],
   "source": []
  },
  {
   "cell_type": "code",
   "execution_count": 82,
   "id": "e43432c0",
   "metadata": {},
   "outputs": [
    {
     "name": "stdout",
     "output_type": "stream",
     "text": [
      "The total commute time is 55 minutes\n"
     ]
    }
   ],
   "source": [
    "commute = 30\n",
    "rain = True\n",
    "traffic = True\n",
    "\n",
    "\n",
    "\n",
    "if (rain == True) & (traffic == True):\n",
    "    total = commute + 10 + 15\n",
    "    print(f\"The total commute time is {total} minutes\")\n",
    "elif (rain == True) & (traffic == False):\n",
    "    total = commute + 10\n",
    "    print(f\"The total commute time is {total} minutes\")\n",
    "elif (rain == False) & (traffic == True):\n",
    "    total = commute + 15\n",
    "    print(f\"The total commute time is {total} minutes\")\n",
    "else:\n",
    "    total = commute\n",
    "    print(f\"The total commute time is {total} minutes\")"
   ]
  },
  {
   "cell_type": "code",
   "execution_count": 83,
   "id": "4772a7c5",
   "metadata": {},
   "outputs": [
    {
     "name": "stdout",
     "output_type": "stream",
     "text": [
      "The total commute time is 30 minutes\n"
     ]
    }
   ],
   "source": [
    "commute = 30\n",
    "rain = False\n",
    "traffic = False\n",
    "\n",
    "\n",
    "\n",
    "if (rain == True) & (traffic == True):\n",
    "    total = commute + 10 + 15\n",
    "    print(f\"The total commute time is {total} minutes\")\n",
    "elif (rain == True) & (traffic == False):\n",
    "    total = commute + 10\n",
    "    print(f\"The total commute time is {total} minutes\")\n",
    "elif (rain == False) & (traffic == True):\n",
    "    total = commute + 15\n",
    "    print(f\"The total commute time is {total} minutes\")\n",
    "else:\n",
    "    total = commute\n",
    "    print(f\"The total commute time is {total} minutes\")"
   ]
  },
  {
   "cell_type": "markdown",
   "id": "4d3c8878",
   "metadata": {},
   "source": [
    "# FOR LOOPS"
   ]
  },
  {
   "cell_type": "code",
   "execution_count": 95,
   "id": "34d92104",
   "metadata": {},
   "outputs": [],
   "source": [
    "rang = range(5)"
   ]
  },
  {
   "cell_type": "code",
   "execution_count": 96,
   "id": "dfd3e461",
   "metadata": {},
   "outputs": [],
   "source": [
    "convert_lst = list(rang)"
   ]
  },
  {
   "cell_type": "code",
   "execution_count": 97,
   "id": "3266fa4e",
   "metadata": {},
   "outputs": [
    {
     "name": "stdout",
     "output_type": "stream",
     "text": [
      "[0, 1, 2, 3, 4]\n"
     ]
    }
   ],
   "source": [
    "print(convert_lst)"
   ]
  },
  {
   "cell_type": "code",
   "execution_count": 110,
   "id": "acf530f8",
   "metadata": {},
   "outputs": [],
   "source": [
    "digits = [1, 2, 3]"
   ]
  },
  {
   "cell_type": "code",
   "execution_count": 112,
   "id": "d9731902",
   "metadata": {},
   "outputs": [
    {
     "name": "stdout",
     "output_type": "stream",
     "text": [
      "2\n",
      "4\n",
      "6\n"
     ]
    }
   ],
   "source": [
    "for k in digits:\n",
    "    print(k * 2)\n",
    "\n",
    "    "
   ]
  },
  {
   "cell_type": "code",
   "execution_count": 113,
   "id": "9e6e9278",
   "metadata": {},
   "outputs": [],
   "source": [
    "empty_list = []\n",
    "\n",
    "digits = [1, 2, 3]\n",
    "\n",
    "for i in digits:\n",
    "    empty_list.append(i * 2)"
   ]
  },
  {
   "cell_type": "code",
   "execution_count": 114,
   "id": "ae1a181f",
   "metadata": {},
   "outputs": [
    {
     "name": "stdout",
     "output_type": "stream",
     "text": [
      "[2, 4, 6]\n"
     ]
    }
   ],
   "source": [
    "print(empty_list)"
   ]
  },
  {
   "cell_type": "code",
   "execution_count": null,
   "id": "b15c3bf7",
   "metadata": {},
   "outputs": [],
   "source": []
  },
  {
   "cell_type": "code",
   "execution_count": null,
   "id": "2459aff8",
   "metadata": {},
   "outputs": [],
   "source": []
  },
  {
   "cell_type": "code",
   "execution_count": 124,
   "id": "aed0dd82",
   "metadata": {},
   "outputs": [],
   "source": [
    "x = [1, 2, 3]"
   ]
  },
  {
   "cell_type": "code",
   "execution_count": 123,
   "id": "148fa652",
   "metadata": {},
   "outputs": [
    {
     "name": "stdout",
     "output_type": "stream",
     "text": [
      "1\n",
      "2\n",
      "3\n"
     ]
    }
   ],
   "source": [
    "for i in x:\n",
    "    print(i)"
   ]
  },
  {
   "cell_type": "code",
   "execution_count": 125,
   "id": "08f835f5",
   "metadata": {},
   "outputs": [],
   "source": [
    "names = [\"mayowa\", \"seyi\", \"desmond\"]"
   ]
  },
  {
   "cell_type": "code",
   "execution_count": 130,
   "id": "c3ca6d2a",
   "metadata": {},
   "outputs": [
    {
     "name": "stdout",
     "output_type": "stream",
     "text": [
      "mayowa\n"
     ]
    }
   ],
   "source": [
    "for i in names:\n",
    "    if i[0:2] == \"ma\":\n",
    "        print(i)"
   ]
  },
  {
   "cell_type": "code",
   "execution_count": 128,
   "id": "7b0b2aaa",
   "metadata": {},
   "outputs": [
    {
     "data": {
      "text/plain": [
       "'ma'"
      ]
     },
     "execution_count": 128,
     "metadata": {},
     "output_type": "execute_result"
    }
   ],
   "source": [
    "names[0][0:2]"
   ]
  },
  {
   "cell_type": "code",
   "execution_count": null,
   "id": "316d6941",
   "metadata": {},
   "outputs": [],
   "source": []
  },
  {
   "cell_type": "code",
   "execution_count": null,
   "id": "6cffd914",
   "metadata": {},
   "outputs": [],
   "source": [
    "names = [\"mayowa\", \"seyi\", \"desmond\"]"
   ]
  },
  {
   "cell_type": "code",
   "execution_count": 137,
   "id": "15ed2ec5",
   "metadata": {},
   "outputs": [
    {
     "data": {
      "text/plain": [
       "'ma'"
      ]
     },
     "execution_count": 137,
     "metadata": {},
     "output_type": "execute_result"
    }
   ],
   "source": [
    "names[0][0:2]"
   ]
  },
  {
   "cell_type": "code",
   "execution_count": 136,
   "id": "7fc227f4",
   "metadata": {},
   "outputs": [
    {
     "name": "stdout",
     "output_type": "stream",
     "text": [
      "ma\n",
      "se\n",
      "de\n"
     ]
    }
   ],
   "source": [
    "for i in names:\n",
    "    print(i[0:2])"
   ]
  },
  {
   "cell_type": "code",
   "execution_count": 139,
   "id": "2e97749f",
   "metadata": {},
   "outputs": [
    {
     "name": "stdout",
     "output_type": "stream",
     "text": [
      "2\n",
      "4\n",
      "6\n"
     ]
    }
   ],
   "source": [
    "numbers = [1, 2, 3]\n",
    "\n",
    "for i in numbers:\n",
    "    print(i * 2)\n",
    "    "
   ]
  },
  {
   "cell_type": "code",
   "execution_count": 142,
   "id": "9a287911",
   "metadata": {},
   "outputs": [
    {
     "name": "stdout",
     "output_type": "stream",
     "text": [
      "2\n",
      "thank you\n",
      "4\n",
      "thank you\n",
      "6\n",
      "thank you\n"
     ]
    }
   ],
   "source": [
    "numbers = [1, 2, 3]\n",
    "\n",
    "for i in numbers:\n",
    "    print(i * 2)\n",
    "    print(\"thank you\")"
   ]
  },
  {
   "cell_type": "code",
   "execution_count": 145,
   "id": "4a99f361",
   "metadata": {},
   "outputs": [
    {
     "name": "stdout",
     "output_type": "stream",
     "text": [
      "2\n",
      "3\n",
      "4\n",
      "6\n",
      "6\n",
      "9\n",
      "100\n"
     ]
    }
   ],
   "source": [
    "numbers = [1, 2, 3]\n",
    "\n",
    "for i in numbers:\n",
    "    print(i * 2)\n",
    "    print(i * 3)\n",
    "    \n",
    "print(10 * 10)"
   ]
  },
  {
   "cell_type": "code",
   "execution_count": null,
   "id": "fcf4f737",
   "metadata": {},
   "outputs": [],
   "source": []
  }
 ],
 "metadata": {
  "kernelspec": {
   "display_name": "Python 3",
   "language": "python",
   "name": "python3"
  },
  "language_info": {
   "codemirror_mode": {
    "name": "ipython",
    "version": 3
   },
   "file_extension": ".py",
   "mimetype": "text/x-python",
   "name": "python",
   "nbconvert_exporter": "python",
   "pygments_lexer": "ipython3",
   "version": "3.8.8"
  }
 },
 "nbformat": 4,
 "nbformat_minor": 5
}
